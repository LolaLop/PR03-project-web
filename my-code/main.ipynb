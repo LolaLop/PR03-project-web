{
 "cells": [
  {
   "cell_type": "markdown",
   "metadata": {},
   "source": [
    "# Rocket launches"
   ]
  },
  {
   "cell_type": "markdown",
   "metadata": {
    "toc": true
   },
   "source": [
    "<h1>Table of contents<span class=\"tocSkip\"></span></h1>\n",
    "<div class=\"toc\"><ul class=\"toc-item\"><li><span><a href=\"#Imports\" data-toc-modified-id=\"Imports-1\"><span class=\"toc-item-num\">1&nbsp;&nbsp;</span>Imports</a></span></li><li><span><a href=\"#API-data\" data-toc-modified-id=\"API-data-2\"><span class=\"toc-item-num\">2&nbsp;&nbsp;</span>API data</a></span><ul class=\"toc-item\"><li><span><a href=\"#API-information\" data-toc-modified-id=\"API-information-2.1\"><span class=\"toc-item-num\">2.1&nbsp;&nbsp;</span>API information</a></span></li><li><span><a href=\"#Function-to-get-the-information-of-the-launches-depending-on-their-status\" data-toc-modified-id=\"Function-to-get-the-information-of-the-launches-depending-on-their-status-2.2\"><span class=\"toc-item-num\">2.2&nbsp;&nbsp;</span>Function to get the information of the launches depending on their status</a></span></li><li><span><a href=\"#Execution\" data-toc-modified-id=\"Execution-2.3\"><span class=\"toc-item-num\">2.3&nbsp;&nbsp;</span>Execution</a></span><ul class=\"toc-item\"><li><span><a href=\"#Get-the-information-of-the-future-launches-(confirmed-and-the-ones-to-be-defined)\" data-toc-modified-id=\"Get-the-information-of-the-future-launches-(confirmed-and-the-ones-to-be-defined)-2.3.1\"><span class=\"toc-item-num\">2.3.1&nbsp;&nbsp;</span>Get the information of the future launches (confirmed and the ones to be defined)</a></span></li><li><span><a href=\"#Merge-the-DataFrames-into-a-single-one\" data-toc-modified-id=\"Merge-the-DataFrames-into-a-single-one-2.3.2\"><span class=\"toc-item-num\">2.3.2&nbsp;&nbsp;</span>Merge the DataFrames into a single one</a></span></li><li><span><a href=\"#Delete-the-columns-which-do-not-contain-relevant-information\" data-toc-modified-id=\"Delete-the-columns-which-do-not-contain-relevant-information-2.3.3\"><span class=\"toc-item-num\">2.3.3&nbsp;&nbsp;</span>Delete the columns which do not contain relevant information</a></span></li></ul></li><li><span><a href=\"#Export-to-a-CSV-file\" data-toc-modified-id=\"Export-to-a-CSV-file-2.4\"><span class=\"toc-item-num\">2.4&nbsp;&nbsp;</span>Export to a CSV file</a></span></li></ul></li><li><span><a href=\"#Webscraping-data\" data-toc-modified-id=\"Webscraping-data-3\"><span class=\"toc-item-num\">3&nbsp;&nbsp;</span>Webscraping data</a></span><ul class=\"toc-item\"><li><ul class=\"toc-item\"><li><span><a href=\"#Input:-List-with-the-URLs-to-scrap\" data-toc-modified-id=\"Input:-List-with-the-URLs-to-scrap-3.0.1\"><span class=\"toc-item-num\">3.0.1&nbsp;&nbsp;</span>Input: List with the URLs to scrap</a></span></li></ul></li><li><span><a href=\"#Define-a-spider\" data-toc-modified-id=\"Define-a-spider-3.1\"><span class=\"toc-item-num\">3.1&nbsp;&nbsp;</span>Define a spider</a></span></li><li><span><a href=\"#Define-the-parser\" data-toc-modified-id=\"Define-the-parser-3.2\"><span class=\"toc-item-num\">3.2&nbsp;&nbsp;</span>Define the parser</a></span></li><li><span><a href=\"#Execution\" data-toc-modified-id=\"Execution-3.3\"><span class=\"toc-item-num\">3.3&nbsp;&nbsp;</span>Execution</a></span><ul class=\"toc-item\"><li><span><a href=\"#Check-the-length-and-one-of-the-elements\" data-toc-modified-id=\"Check-the-length-and-one-of-the-elements-3.3.1\"><span class=\"toc-item-num\">3.3.1&nbsp;&nbsp;</span>Check the length and one of the elements</a></span></li></ul></li><li><span><a href=\"#Convert-to-a-DataFrame\" data-toc-modified-id=\"Convert-to-a-DataFrame-3.4\"><span class=\"toc-item-num\">3.4&nbsp;&nbsp;</span>Convert to a DataFrame</a></span></li><li><span><a href=\"#Export-to-CSV\" data-toc-modified-id=\"Export-to-CSV-3.5\"><span class=\"toc-item-num\">3.5&nbsp;&nbsp;</span>Export to CSV</a></span></li></ul></li><li><span><a href=\"#Data-merge\" data-toc-modified-id=\"Data-merge-4\"><span class=\"toc-item-num\">4&nbsp;&nbsp;</span>Data merge</a></span><ul class=\"toc-item\"><li><span><a href=\"#Import-both-csv-files\" data-toc-modified-id=\"Import-both-csv-files-4.1\"><span class=\"toc-item-num\">4.1&nbsp;&nbsp;</span>Import both csv files</a></span><ul class=\"toc-item\"><li><span><a href=\"#Export-to-a-CSV\" data-toc-modified-id=\"Export-to-a-CSV-4.1.1\"><span class=\"toc-item-num\">4.1.1&nbsp;&nbsp;</span>Export to a CSV</a></span></li></ul></li></ul></li></ul></div>"
   ]
  },
  {
   "cell_type": "markdown",
   "metadata": {},
   "source": [
    "## Imports"
   ]
  },
  {
   "cell_type": "markdown",
   "metadata": {},
   "source": [
    "Libraries to import for the API and webscraping"
   ]
  },
  {
   "cell_type": "code",
   "execution_count": 1,
   "metadata": {
    "ExecuteTime": {
     "end_time": "2020-08-16T16:42:03.166041Z",
     "start_time": "2020-08-16T16:42:02.086336Z"
    }
   },
   "outputs": [],
   "source": [
    "import requests, random, time\n",
    "from datetime import datetime, date, time\n",
    "from bs4 import BeautifulSoup\n",
    "import json\n",
    "import pandas as pd"
   ]
  },
  {
   "cell_type": "markdown",
   "metadata": {},
   "source": [
    "## API data"
   ]
  },
  {
   "cell_type": "markdown",
   "metadata": {},
   "source": [
    "### API information\n",
    "\n",
    "**mode**\n",
    "\n",
    "The options are:\n",
    "- list\n",
    "- detailed\n",
    "\n",
    "As I am interested in the list of launches and no any other information, the mode will be list\n",
    "\n",
    "**Status**\n",
    "\n",
    "It refers to the launch status. The options are:\n",
    "- 1 = GO\n",
    "- 2 = TBD\n",
    "- 3 = Success\n",
    "- 4 = Failure\n",
    "- 5 = Hold\n",
    "- 6 = In-flight\n",
    "- 7 = Partial failure"
   ]
  },
  {
   "cell_type": "markdown",
   "metadata": {},
   "source": [
    "### Function to get the information of the launches depending on their status"
   ]
  },
  {
   "cell_type": "code",
   "execution_count": 2,
   "metadata": {
    "ExecuteTime": {
     "end_time": "2020-08-16T16:42:03.180662Z",
     "start_time": "2020-08-16T16:42:03.169942Z"
    }
   },
   "outputs": [],
   "source": [
    "def get_launches(limit=100, status=2):\n",
    "    \n",
    "    # Initial offset of the query\n",
    "    offset = 0\n",
    "    # API URL\n",
    "    url_api = 'https://spacelaunchnow.me/api/3.3.0/launch/?'\n",
    "    \n",
    "    # Loop until all the elements are requested\n",
    "    while True:\n",
    "        \n",
    "        # Query\n",
    "        q = {'mode':'list', 'limit':limit, 'offset':offset, 'status':status}\n",
    "        # Request\n",
    "        r = requests.get(url_api, params=q).json()\n",
    "        \n",
    "        # First request:\n",
    "        if offset == 0:\n",
    "            # Export the information to a DataFrame\n",
    "            launches = pd.json_normalize(r['results'])\n",
    "        else:\n",
    "            #merge to previous dataframe\n",
    "            df = pd.json_normalize(r['results'])\n",
    "            launches = pd.concat([launches, df], ignore_index=True)\n",
    "            \n",
    "        # Check if all the elements have been requested and if so, break the loop\n",
    "        if (offset+limit) < r['count']:\n",
    "            offset += limit\n",
    "        else:\n",
    "            break\n",
    "    \n",
    "    return launches"
   ]
  },
  {
   "cell_type": "markdown",
   "metadata": {},
   "source": [
    "### Execution"
   ]
  },
  {
   "cell_type": "markdown",
   "metadata": {},
   "source": [
    "#### Get the information of the future launches (confirmed and the ones to be defined)"
   ]
  },
  {
   "cell_type": "code",
   "execution_count": 3,
   "metadata": {
    "ExecuteTime": {
     "end_time": "2020-08-16T16:42:04.881023Z",
     "start_time": "2020-08-16T16:42:03.187935Z"
    }
   },
   "outputs": [],
   "source": [
    "launches_go = get_launches(status=1)\n",
    "launches_tbd = get_launches(status=2)"
   ]
  },
  {
   "cell_type": "markdown",
   "metadata": {},
   "source": [
    "#### Merge the DataFrames into a single one"
   ]
  },
  {
   "cell_type": "code",
   "execution_count": 4,
   "metadata": {
    "ExecuteTime": {
     "end_time": "2020-08-16T16:42:04.897430Z",
     "start_time": "2020-08-16T16:42:04.884544Z"
    }
   },
   "outputs": [],
   "source": [
    "launches_info = pd.concat([launches_go, launches_tbd], ignore_index=True)"
   ]
  },
  {
   "cell_type": "code",
   "execution_count": 5,
   "metadata": {
    "ExecuteTime": {
     "end_time": "2020-08-16T16:42:04.953053Z",
     "start_time": "2020-08-16T16:42:04.903121Z"
    }
   },
   "outputs": [
    {
     "data": {
      "text/html": [
       "<div>\n",
       "<style scoped>\n",
       "    .dataframe tbody tr th:only-of-type {\n",
       "        vertical-align: middle;\n",
       "    }\n",
       "\n",
       "    .dataframe tbody tr th {\n",
       "        vertical-align: top;\n",
       "    }\n",
       "\n",
       "    .dataframe thead th {\n",
       "        text-align: right;\n",
       "    }\n",
       "</style>\n",
       "<table border=\"1\" class=\"dataframe\">\n",
       "  <thead>\n",
       "    <tr style=\"text-align: right;\">\n",
       "      <th></th>\n",
       "      <th>id</th>\n",
       "      <th>url</th>\n",
       "      <th>launch_library_id</th>\n",
       "      <th>slug</th>\n",
       "      <th>name</th>\n",
       "      <th>net</th>\n",
       "      <th>window_end</th>\n",
       "      <th>window_start</th>\n",
       "      <th>mission</th>\n",
       "      <th>mission_type</th>\n",
       "      <th>pad</th>\n",
       "      <th>location</th>\n",
       "      <th>landing</th>\n",
       "      <th>landing_success</th>\n",
       "      <th>launcher</th>\n",
       "      <th>orbit</th>\n",
       "      <th>image</th>\n",
       "      <th>status.id</th>\n",
       "      <th>status.name</th>\n",
       "    </tr>\n",
       "  </thead>\n",
       "  <tbody>\n",
       "    <tr>\n",
       "      <th>0</th>\n",
       "      <td>24b3b696-9253-4088-92f2-c7762f4e0a4c</td>\n",
       "      <td>http://spacelaunchnow.me/api/3.3.0/launch/24b3...</td>\n",
       "      <td>2088.0</td>\n",
       "      <td>https://spacelaunchnow.me/launch/falcon-9-bloc...</td>\n",
       "      <td>Falcon 9 Block 5 | Starlink 10</td>\n",
       "      <td>2020-08-18T14:31:00Z</td>\n",
       "      <td>2020-08-18T14:31:00Z</td>\n",
       "      <td>2020-08-18T14:31:00Z</td>\n",
       "      <td>Starlink 10</td>\n",
       "      <td>Communications</td>\n",
       "      <td>Space Launch Complex 40</td>\n",
       "      <td>Cape Canaveral, FL, USA</td>\n",
       "      <td>OCISLY</td>\n",
       "      <td>0.0</td>\n",
       "      <td>B1049</td>\n",
       "      <td>LEO</td>\n",
       "      <td>https://spacelaunchnow-prod-east.nyc3.cdn.digi...</td>\n",
       "      <td>1</td>\n",
       "      <td>Go</td>\n",
       "    </tr>\n",
       "    <tr>\n",
       "      <th>1</th>\n",
       "      <td>6cdf9823-7574-4c0d-a3b2-956c7b364756</td>\n",
       "      <td>http://spacelaunchnow.me/api/3.3.0/launch/6cdf...</td>\n",
       "      <td>1973.0</td>\n",
       "      <td>https://spacelaunchnow.me/launch/delta-iv-heav...</td>\n",
       "      <td>Delta IV Heavy | NROL-44</td>\n",
       "      <td>2020-08-26T05:50:00Z</td>\n",
       "      <td>2020-08-26T10:25:00Z</td>\n",
       "      <td>2020-08-26T05:50:00Z</td>\n",
       "      <td>None</td>\n",
       "      <td>NaN</td>\n",
       "      <td>Space Launch Complex 37B</td>\n",
       "      <td>Cape Canaveral, FL, USA</td>\n",
       "      <td>None</td>\n",
       "      <td>NaN</td>\n",
       "      <td>None</td>\n",
       "      <td>None</td>\n",
       "      <td>https://spacelaunchnow-prod-east.nyc3.cdn.digi...</td>\n",
       "      <td>1</td>\n",
       "      <td>Go</td>\n",
       "    </tr>\n",
       "    <tr>\n",
       "      <th>2</th>\n",
       "      <td>120c53d4-d3a1-42fe-b2a5-a63e3b11d72b</td>\n",
       "      <td>http://spacelaunchnow.me/api/3.3.0/launch/120c...</td>\n",
       "      <td>1640.0</td>\n",
       "      <td>https://spacelaunchnow.me/launch/electron-stp-...</td>\n",
       "      <td>Electron | STP-27RM</td>\n",
       "      <td>2020-08-31T00:00:00Z</td>\n",
       "      <td>2020-08-31T00:00:00Z</td>\n",
       "      <td>2020-08-31T00:00:00Z</td>\n",
       "      <td>STP-27RM</td>\n",
       "      <td>Government/Top Secret</td>\n",
       "      <td>Rocket Lab Launch Complex 2</td>\n",
       "      <td>Wallops Island, Virginia, USA</td>\n",
       "      <td>None</td>\n",
       "      <td>NaN</td>\n",
       "      <td>None</td>\n",
       "      <td>None</td>\n",
       "      <td>https://spacelaunchnow-prod-east.nyc3.cdn.digi...</td>\n",
       "      <td>2</td>\n",
       "      <td>TBD</td>\n",
       "    </tr>\n",
       "    <tr>\n",
       "      <th>3</th>\n",
       "      <td>504ba71a-bf09-48f1-9346-48c3d79e580b</td>\n",
       "      <td>http://spacelaunchnow.me/api/3.3.0/launch/504b...</td>\n",
       "      <td>NaN</td>\n",
       "      <td>https://spacelaunchnow.me/launch/momo-flight-7</td>\n",
       "      <td>MOMO | Flight 7</td>\n",
       "      <td>2020-08-31T00:00:00Z</td>\n",
       "      <td>2020-08-31T00:00:00Z</td>\n",
       "      <td>2020-08-31T00:00:00Z</td>\n",
       "      <td>Flight 7</td>\n",
       "      <td>Suborbital</td>\n",
       "      <td>Taiki-cho, Hokkaido, Japan</td>\n",
       "      <td>Taiki-cho, Hokkaido, Japan</td>\n",
       "      <td>None</td>\n",
       "      <td>NaN</td>\n",
       "      <td>None</td>\n",
       "      <td>Sub Orbital</td>\n",
       "      <td>https://spacelaunchnow-prod-east.nyc3.cdn.digi...</td>\n",
       "      <td>2</td>\n",
       "      <td>TBD</td>\n",
       "    </tr>\n",
       "    <tr>\n",
       "      <th>4</th>\n",
       "      <td>98a5da32-4719-495b-9713-fcb5c058f31c</td>\n",
       "      <td>http://spacelaunchnow.me/api/3.3.0/launch/98a5...</td>\n",
       "      <td>1359.0</td>\n",
       "      <td>https://spacelaunchnow.me/launch/falcon-9-bloc...</td>\n",
       "      <td>Falcon 9 Block 5 | SAOCOM 1B</td>\n",
       "      <td>2020-08-31T00:00:00Z</td>\n",
       "      <td>2020-08-31T00:00:00Z</td>\n",
       "      <td>2020-08-31T00:00:00Z</td>\n",
       "      <td>SAOCOM 1B</td>\n",
       "      <td>Communications</td>\n",
       "      <td>Space Launch Complex 40</td>\n",
       "      <td>Cape Canaveral, FL, USA</td>\n",
       "      <td>None</td>\n",
       "      <td>NaN</td>\n",
       "      <td>None</td>\n",
       "      <td>None</td>\n",
       "      <td>https://spacelaunchnow-prod-east.nyc3.cdn.digi...</td>\n",
       "      <td>2</td>\n",
       "      <td>TBD</td>\n",
       "    </tr>\n",
       "  </tbody>\n",
       "</table>\n",
       "</div>"
      ],
      "text/plain": [
       "                                     id  \\\n",
       "0  24b3b696-9253-4088-92f2-c7762f4e0a4c   \n",
       "1  6cdf9823-7574-4c0d-a3b2-956c7b364756   \n",
       "2  120c53d4-d3a1-42fe-b2a5-a63e3b11d72b   \n",
       "3  504ba71a-bf09-48f1-9346-48c3d79e580b   \n",
       "4  98a5da32-4719-495b-9713-fcb5c058f31c   \n",
       "\n",
       "                                                 url  launch_library_id  \\\n",
       "0  http://spacelaunchnow.me/api/3.3.0/launch/24b3...             2088.0   \n",
       "1  http://spacelaunchnow.me/api/3.3.0/launch/6cdf...             1973.0   \n",
       "2  http://spacelaunchnow.me/api/3.3.0/launch/120c...             1640.0   \n",
       "3  http://spacelaunchnow.me/api/3.3.0/launch/504b...                NaN   \n",
       "4  http://spacelaunchnow.me/api/3.3.0/launch/98a5...             1359.0   \n",
       "\n",
       "                                                slug  \\\n",
       "0  https://spacelaunchnow.me/launch/falcon-9-bloc...   \n",
       "1  https://spacelaunchnow.me/launch/delta-iv-heav...   \n",
       "2  https://spacelaunchnow.me/launch/electron-stp-...   \n",
       "3     https://spacelaunchnow.me/launch/momo-flight-7   \n",
       "4  https://spacelaunchnow.me/launch/falcon-9-bloc...   \n",
       "\n",
       "                             name                   net            window_end  \\\n",
       "0  Falcon 9 Block 5 | Starlink 10  2020-08-18T14:31:00Z  2020-08-18T14:31:00Z   \n",
       "1        Delta IV Heavy | NROL-44  2020-08-26T05:50:00Z  2020-08-26T10:25:00Z   \n",
       "2             Electron | STP-27RM  2020-08-31T00:00:00Z  2020-08-31T00:00:00Z   \n",
       "3                 MOMO | Flight 7  2020-08-31T00:00:00Z  2020-08-31T00:00:00Z   \n",
       "4    Falcon 9 Block 5 | SAOCOM 1B  2020-08-31T00:00:00Z  2020-08-31T00:00:00Z   \n",
       "\n",
       "           window_start      mission           mission_type  \\\n",
       "0  2020-08-18T14:31:00Z  Starlink 10         Communications   \n",
       "1  2020-08-26T05:50:00Z         None                    NaN   \n",
       "2  2020-08-31T00:00:00Z     STP-27RM  Government/Top Secret   \n",
       "3  2020-08-31T00:00:00Z     Flight 7             Suborbital   \n",
       "4  2020-08-31T00:00:00Z    SAOCOM 1B         Communications   \n",
       "\n",
       "                           pad                       location landing  \\\n",
       "0      Space Launch Complex 40        Cape Canaveral, FL, USA  OCISLY   \n",
       "1     Space Launch Complex 37B        Cape Canaveral, FL, USA    None   \n",
       "2  Rocket Lab Launch Complex 2  Wallops Island, Virginia, USA    None   \n",
       "3   Taiki-cho, Hokkaido, Japan     Taiki-cho, Hokkaido, Japan    None   \n",
       "4      Space Launch Complex 40        Cape Canaveral, FL, USA    None   \n",
       "\n",
       "   landing_success launcher        orbit  \\\n",
       "0              0.0    B1049          LEO   \n",
       "1              NaN     None         None   \n",
       "2              NaN     None         None   \n",
       "3              NaN     None  Sub Orbital   \n",
       "4              NaN     None         None   \n",
       "\n",
       "                                               image  status.id status.name  \n",
       "0  https://spacelaunchnow-prod-east.nyc3.cdn.digi...          1          Go  \n",
       "1  https://spacelaunchnow-prod-east.nyc3.cdn.digi...          1          Go  \n",
       "2  https://spacelaunchnow-prod-east.nyc3.cdn.digi...          2         TBD  \n",
       "3  https://spacelaunchnow-prod-east.nyc3.cdn.digi...          2         TBD  \n",
       "4  https://spacelaunchnow-prod-east.nyc3.cdn.digi...          2         TBD  "
      ]
     },
     "metadata": {},
     "output_type": "display_data"
    }
   ],
   "source": [
    "display(launches_info.head())"
   ]
  },
  {
   "cell_type": "markdown",
   "metadata": {},
   "source": [
    "#### Delete the columns which do not contain relevant information"
   ]
  },
  {
   "cell_type": "code",
   "execution_count": 6,
   "metadata": {
    "ExecuteTime": {
     "end_time": "2020-08-16T16:42:04.969644Z",
     "start_time": "2020-08-16T16:42:04.959843Z"
    }
   },
   "outputs": [
    {
     "data": {
      "text/plain": [
       "Index(['id', 'url', 'launch_library_id', 'slug', 'name', 'net', 'window_end',\n",
       "       'window_start', 'mission', 'mission_type', 'pad', 'location', 'landing',\n",
       "       'landing_success', 'launcher', 'orbit', 'image', 'status.id',\n",
       "       'status.name'],\n",
       "      dtype='object')"
      ]
     },
     "metadata": {},
     "output_type": "display_data"
    }
   ],
   "source": [
    "display(launches_info.columns)"
   ]
  },
  {
   "cell_type": "code",
   "execution_count": 7,
   "metadata": {
    "ExecuteTime": {
     "end_time": "2020-08-16T16:42:04.985409Z",
     "start_time": "2020-08-16T16:42:04.975783Z"
    }
   },
   "outputs": [],
   "source": [
    "launches_info.drop(columns=['id', 'url', 'launch_library_id', 'landing',\n",
    "                            'landing_success', 'launcher', 'image', 'status.id'], inplace=True)"
   ]
  },
  {
   "cell_type": "markdown",
   "metadata": {},
   "source": [
    "### Export to a CSV file"
   ]
  },
  {
   "cell_type": "code",
   "execution_count": 8,
   "metadata": {
    "ExecuteTime": {
     "end_time": "2020-08-16T16:42:05.007006Z",
     "start_time": "2020-08-16T16:42:04.993568Z"
    }
   },
   "outputs": [],
   "source": [
    "launches_info.to_csv('output/api_data.csv', index=False)"
   ]
  },
  {
   "cell_type": "markdown",
   "metadata": {},
   "source": [
    "## Webscraping data"
   ]
  },
  {
   "cell_type": "markdown",
   "metadata": {},
   "source": [
    "From the API, there is a URL associated a each launch. Scrapping it, I will obtain more information about the launch and this information will be added to the DataFrame to complete it."
   ]
  },
  {
   "cell_type": "markdown",
   "metadata": {},
   "source": [
    "#### Input: List with the URLs to scrap"
   ]
  },
  {
   "cell_type": "code",
   "execution_count": 9,
   "metadata": {
    "ExecuteTime": {
     "end_time": "2020-08-16T16:42:05.019672Z",
     "start_time": "2020-08-16T16:42:05.012830Z"
    }
   },
   "outputs": [],
   "source": [
    "urls_list = list(launches_info.sort_values(['net'])['slug'])"
   ]
  },
  {
   "cell_type": "markdown",
   "metadata": {},
   "source": [
    "### Define a spider"
   ]
  },
  {
   "cell_type": "code",
   "execution_count": 10,
   "metadata": {
    "ExecuteTime": {
     "end_time": "2020-08-16T16:42:05.050716Z",
     "start_time": "2020-08-16T16:42:05.024469Z"
    }
   },
   "outputs": [],
   "source": [
    "class LaunchSpider:\n",
    "    \"\"\"\n",
    "    Parameters:\n",
    "    - url: List of urls to scrape\n",
    "    - sleep_interval: The time interval in seconds to delay between requests. If <0, requests will not be delayed.\n",
    "    - content_parser: The function reference that will extract the intended info from the scraped content\n",
    "    - output_list: it will be the final output list with the information scrapped\n",
    "    \"\"\"\n",
    "    def __init__(self, url_list, sleep_interval=-1, content_parser=None):\n",
    "        self.url_list = url_list\n",
    "        self.sleep_interval = sleep_interval\n",
    "        self.content_parser = content_parser\n",
    "        self.output_list = []\n",
    "        \n",
    "    \"\"\"\n",
    "    Generate a random user-agent for the headers\n",
    "    \"\"\"\n",
    "    def get_random_ua(self):\n",
    "         browsers = ['Mozilla/5.0 CK={} (Windows NT 6.1; WOW64; Trident/7.0; rv:11.0) like Gecko',\n",
    "           'Mozilla/5.0 (iPhone; CPU iPhone OS 12_2 like Mac OS X) AppleWebKit/605.1.15 (KHTML, like Gecko) Mobile/15E148\t',\n",
    "           'Mozilla/5.0 (Windows NT 10.0; Win64; x64) AppleWebKit/537.36 (KHTML, like Gecko) Chrome/69.0.3497.100 Safari/537.36',\n",
    "           'Mozilla/5.0 (X11; Linux x86_64) AppleWebKit/537.36 (KHTML, like Gecko) Chrome/44.0.2403.157 Safari/537.36']\n",
    "        \n",
    "         self.user_agent = random.choice(browsers)\n",
    "    \n",
    "    \"\"\"\n",
    "    Scrape the content of a single url\n",
    "    \"\"\"\n",
    "    def scrape_url(self, url):\n",
    "        \n",
    "        # Get a random user-agent\n",
    "        ua = self.get_random_ua()\n",
    "        \n",
    "        # Generate the headers\n",
    "        headers = {'user-agent':ua}\n",
    "    \n",
    "        # If there is an error, print it\n",
    "        try:\n",
    "            response = requests.get(url, headers=headers, timeout=10)\n",
    "            if response.status_code >= 400 and response.status_code < 500:\n",
    "                print('The request failed because the resource either does not exist or is forbidden')\n",
    "            elif response.status_code >= 300 and response.status_code < 400:\n",
    "                print('Redirection error')\n",
    "            elif response.status_code >= 500:\n",
    "                print('Server error')\n",
    "        except requests.exceptions.Timeout:\n",
    "            # timeout error\n",
    "            print('There has been a timeout error')\n",
    "        except requests.exceptions.TooManyRedirects:\n",
    "            # Too many redirects error\n",
    "            print('Too many redirects')\n",
    "        except requests.exceptions.SSLError:\n",
    "            # SSL error\n",
    "            print('SSL error')\n",
    "        except requests.exceptions.RequestException as e:\n",
    "            # Other unknown error\n",
    "            print(f'{e}')\n",
    "        \n",
    "        result = self.content_parser(response.content)\n",
    "        self.output_results(result)\n",
    "    \n",
    "    \"\"\"\n",
    "    Export the scraped content to the output list attribute\n",
    "    \"\"\"\n",
    "    def output_results(self, r):\n",
    "        \n",
    "        # append to the output list\n",
    "        self.output_list.append(r)\n",
    "        \n",
    "    \"\"\"\n",
    "    After the class is initiated, call this function to start the scraping of the urls list.\n",
    "    This function uses a FOR loop to call `scrape_url()` for each url to scrape\n",
    "    \"\"\"\n",
    "    def kickstart(self):\n",
    "\n",
    "        for url in self.url_list:\n",
    "            self.scrape_url(url)\n",
    "            if self.sleep_interval > 0:\n",
    "                time.sleep(self.sleep_interval)\n",
    "\n",
    "        # give the results list as an output\n",
    "        return self.output_list"
   ]
  },
  {
   "cell_type": "markdown",
   "metadata": {},
   "source": [
    "### Define the parser"
   ]
  },
  {
   "cell_type": "markdown",
   "metadata": {},
   "source": [
    "From each URL, we would like to obtain the description of the launch. It usually includes a description of the payload inside the rocket."
   ]
  },
  {
   "cell_type": "code",
   "execution_count": 28,
   "metadata": {
    "ExecuteTime": {
     "end_time": "2020-08-16T16:50:06.562463Z",
     "start_time": "2020-08-16T16:50:06.545737Z"
    }
   },
   "outputs": [],
   "source": [
    "def launch_parser(content):\n",
    "\n",
    "    soup = BeautifulSoup(content, 'html.parser')\n",
    "    title = soup.find('h1', attrs={'class':'title'}).text\n",
    "    desc = 'no information'\n",
    "    date = soup.find('h3', attrs={'id':'date'}).text\n",
    "    \n",
    "    # Split the date to keep only year, month and day\n",
    "    date = date.split()\n",
    "    month = date[0]\n",
    "    month = month[:3]\n",
    "    day = date[1]\n",
    "    year = date[2]\n",
    "    date = ' '.join([month, day, year])\n",
    "    \n",
    "    #Transform the date into a datetime\n",
    "    date = datetime.strptime(date, '%b %d, %Y,')\n",
    "    \n",
    "    # Some of the launches do not have any description yet and in this case there is\n",
    "    # no additional information to add\n",
    "    \n",
    "    try: \n",
    "        desc = soup.find('div', attrs={'class':'col-md-12 mx-auto'}).find('p').text       \n",
    "        return [title, desc, date]\n",
    "    \n",
    "    except:\n",
    "        return [title, desc, date]"
   ]
  },
  {
   "cell_type": "markdown",
   "metadata": {},
   "source": [
    "### Execution"
   ]
  },
  {
   "cell_type": "code",
   "execution_count": 29,
   "metadata": {
    "ExecuteTime": {
     "end_time": "2020-08-16T16:50:10.745199Z",
     "start_time": "2020-08-16T16:50:10.739109Z"
    }
   },
   "outputs": [],
   "source": [
    "spider = LaunchSpider(urls_list, sleep_interval=0, content_parser=launch_parser)"
   ]
  },
  {
   "cell_type": "code",
   "execution_count": 30,
   "metadata": {
    "ExecuteTime": {
     "end_time": "2020-08-16T16:52:28.230168Z",
     "start_time": "2020-08-16T16:50:11.855444Z"
    }
   },
   "outputs": [],
   "source": [
    "launch_list = spider.kickstart()"
   ]
  },
  {
   "cell_type": "markdown",
   "metadata": {},
   "source": [
    "#### Check the length and one of the elements"
   ]
  },
  {
   "cell_type": "code",
   "execution_count": 31,
   "metadata": {
    "ExecuteTime": {
     "end_time": "2020-08-16T17:00:23.829041Z",
     "start_time": "2020-08-16T17:00:23.820053Z"
    }
   },
   "outputs": [
    {
     "data": {
      "text/plain": [
       "201"
      ]
     },
     "execution_count": 31,
     "metadata": {},
     "output_type": "execute_result"
    }
   ],
   "source": [
    "len(launch_list)"
   ]
  },
  {
   "cell_type": "code",
   "execution_count": 32,
   "metadata": {
    "ExecuteTime": {
     "end_time": "2020-08-16T17:00:24.836762Z",
     "start_time": "2020-08-16T17:00:24.826688Z"
    }
   },
   "outputs": [
    {
     "data": {
      "text/plain": [
       "['Atlas V 551 | STP-3', 'no information', datetime.datetime(2020, 10, 1, 0, 0)]"
      ]
     },
     "execution_count": 32,
     "metadata": {},
     "output_type": "execute_result"
    }
   ],
   "source": [
    "launch_list[16]"
   ]
  },
  {
   "cell_type": "markdown",
   "metadata": {},
   "source": [
    "### Convert to a DataFrame"
   ]
  },
  {
   "cell_type": "code",
   "execution_count": 33,
   "metadata": {
    "ExecuteTime": {
     "end_time": "2020-08-16T17:00:34.935515Z",
     "start_time": "2020-08-16T17:00:34.926180Z"
    }
   },
   "outputs": [],
   "source": [
    "launch_description = pd.DataFrame(launch_list, columns=['name', 'description', 'date'])"
   ]
  },
  {
   "cell_type": "code",
   "execution_count": 34,
   "metadata": {
    "ExecuteTime": {
     "end_time": "2020-08-16T17:00:35.565610Z",
     "start_time": "2020-08-16T17:00:35.547041Z"
    }
   },
   "outputs": [
    {
     "data": {
      "text/html": [
       "<div>\n",
       "<style scoped>\n",
       "    .dataframe tbody tr th:only-of-type {\n",
       "        vertical-align: middle;\n",
       "    }\n",
       "\n",
       "    .dataframe tbody tr th {\n",
       "        vertical-align: top;\n",
       "    }\n",
       "\n",
       "    .dataframe thead th {\n",
       "        text-align: right;\n",
       "    }\n",
       "</style>\n",
       "<table border=\"1\" class=\"dataframe\">\n",
       "  <thead>\n",
       "    <tr style=\"text-align: right;\">\n",
       "      <th></th>\n",
       "      <th>name</th>\n",
       "      <th>description</th>\n",
       "      <th>date</th>\n",
       "    </tr>\n",
       "  </thead>\n",
       "  <tbody>\n",
       "    <tr>\n",
       "      <th>0</th>\n",
       "      <td>Falcon 9 Block 5 | Starlink 10</td>\n",
       "      <td>A batch of 58 satellites for Starlink mega-con...</td>\n",
       "      <td>2020-08-18</td>\n",
       "    </tr>\n",
       "    <tr>\n",
       "      <th>1</th>\n",
       "      <td>Delta IV Heavy | NROL-44</td>\n",
       "      <td>no information</td>\n",
       "      <td>2020-08-26</td>\n",
       "    </tr>\n",
       "    <tr>\n",
       "      <th>2</th>\n",
       "      <td>Electron | STP-27RM</td>\n",
       "      <td>A U.S. Air Force experimental spacecraft.</td>\n",
       "      <td>2020-08-31</td>\n",
       "    </tr>\n",
       "    <tr>\n",
       "      <th>3</th>\n",
       "      <td>MOMO | Flight 7</td>\n",
       "      <td>The sixth (Flight 6 has not happened yet) flig...</td>\n",
       "      <td>2020-08-31</td>\n",
       "    </tr>\n",
       "    <tr>\n",
       "      <th>4</th>\n",
       "      <td>Falcon 9 Block 5 | SAOCOM 1B</td>\n",
       "      <td>The SAOCOM 1B spacecraft is the second of the ...</td>\n",
       "      <td>2020-08-31</td>\n",
       "    </tr>\n",
       "  </tbody>\n",
       "</table>\n",
       "</div>"
      ],
      "text/plain": [
       "                             name  \\\n",
       "0  Falcon 9 Block 5 | Starlink 10   \n",
       "1        Delta IV Heavy | NROL-44   \n",
       "2             Electron | STP-27RM   \n",
       "3                 MOMO | Flight 7   \n",
       "4    Falcon 9 Block 5 | SAOCOM 1B   \n",
       "\n",
       "                                         description       date  \n",
       "0  A batch of 58 satellites for Starlink mega-con... 2020-08-18  \n",
       "1                                     no information 2020-08-26  \n",
       "2          A U.S. Air Force experimental spacecraft. 2020-08-31  \n",
       "3  The sixth (Flight 6 has not happened yet) flig... 2020-08-31  \n",
       "4  The SAOCOM 1B spacecraft is the second of the ... 2020-08-31  "
      ]
     },
     "execution_count": 34,
     "metadata": {},
     "output_type": "execute_result"
    }
   ],
   "source": [
    "launch_description.head()"
   ]
  },
  {
   "cell_type": "markdown",
   "metadata": {},
   "source": [
    "### Export to CSV"
   ]
  },
  {
   "cell_type": "code",
   "execution_count": 37,
   "metadata": {
    "ExecuteTime": {
     "end_time": "2020-08-16T17:01:17.795771Z",
     "start_time": "2020-08-16T17:01:17.765012Z"
    }
   },
   "outputs": [],
   "source": [
    "launch_description.to_csv('output/web_data.csv', index=False)"
   ]
  },
  {
   "cell_type": "markdown",
   "metadata": {},
   "source": [
    "## Data merge"
   ]
  },
  {
   "cell_type": "markdown",
   "metadata": {},
   "source": [
    "### Import both csv files"
   ]
  },
  {
   "cell_type": "code",
   "execution_count": 80,
   "metadata": {
    "ExecuteTime": {
     "end_time": "2020-08-16T17:15:46.524953Z",
     "start_time": "2020-08-16T17:15:46.506479Z"
    }
   },
   "outputs": [],
   "source": [
    "df1 = pd.read_csv('output/api_data.csv')\n",
    "df2 = pd.read_csv('output/web_data.csv')"
   ]
  },
  {
   "cell_type": "code",
   "execution_count": 81,
   "metadata": {
    "ExecuteTime": {
     "end_time": "2020-08-16T17:15:47.366300Z",
     "start_time": "2020-08-16T17:15:47.350095Z"
    }
   },
   "outputs": [
    {
     "data": {
      "text/plain": [
       "Index(['slug', 'name', 'net', 'window_end', 'window_start', 'mission',\n",
       "       'mission_type', 'pad', 'location', 'orbit', 'status.name'],\n",
       "      dtype='object')"
      ]
     },
     "execution_count": 81,
     "metadata": {},
     "output_type": "execute_result"
    }
   ],
   "source": [
    "df1.columns"
   ]
  },
  {
   "cell_type": "code",
   "execution_count": 82,
   "metadata": {
    "ExecuteTime": {
     "end_time": "2020-08-16T17:15:48.233136Z",
     "start_time": "2020-08-16T17:15:48.225948Z"
    }
   },
   "outputs": [
    {
     "data": {
      "text/plain": [
       "Index(['name', 'description', 'date'], dtype='object')"
      ]
     },
     "execution_count": 82,
     "metadata": {},
     "output_type": "execute_result"
    }
   ],
   "source": [
    "df2.columns"
   ]
  },
  {
   "cell_type": "code",
   "execution_count": 83,
   "metadata": {
    "ExecuteTime": {
     "end_time": "2020-08-16T17:15:50.488377Z",
     "start_time": "2020-08-16T17:15:50.458195Z"
    }
   },
   "outputs": [
    {
     "data": {
      "text/html": [
       "<div>\n",
       "<style scoped>\n",
       "    .dataframe tbody tr th:only-of-type {\n",
       "        vertical-align: middle;\n",
       "    }\n",
       "\n",
       "    .dataframe tbody tr th {\n",
       "        vertical-align: top;\n",
       "    }\n",
       "\n",
       "    .dataframe thead th {\n",
       "        text-align: right;\n",
       "    }\n",
       "</style>\n",
       "<table border=\"1\" class=\"dataframe\">\n",
       "  <thead>\n",
       "    <tr style=\"text-align: right;\">\n",
       "      <th></th>\n",
       "      <th>slug</th>\n",
       "      <th>name</th>\n",
       "      <th>net</th>\n",
       "      <th>window_end</th>\n",
       "      <th>window_start</th>\n",
       "      <th>mission</th>\n",
       "      <th>mission_type</th>\n",
       "      <th>pad</th>\n",
       "      <th>location</th>\n",
       "      <th>orbit</th>\n",
       "      <th>status.name</th>\n",
       "    </tr>\n",
       "  </thead>\n",
       "  <tbody>\n",
       "    <tr>\n",
       "      <th>0</th>\n",
       "      <td>https://spacelaunchnow.me/launch/falcon-9-bloc...</td>\n",
       "      <td>Falcon 9 Block 5 | Starlink 10</td>\n",
       "      <td>2020-08-18T14:31:00Z</td>\n",
       "      <td>2020-08-18T14:31:00Z</td>\n",
       "      <td>2020-08-18T14:31:00Z</td>\n",
       "      <td>Starlink 10</td>\n",
       "      <td>Communications</td>\n",
       "      <td>Space Launch Complex 40</td>\n",
       "      <td>Cape Canaveral, FL, USA</td>\n",
       "      <td>LEO</td>\n",
       "      <td>Go</td>\n",
       "    </tr>\n",
       "    <tr>\n",
       "      <th>1</th>\n",
       "      <td>https://spacelaunchnow.me/launch/delta-iv-heav...</td>\n",
       "      <td>Delta IV Heavy | NROL-44</td>\n",
       "      <td>2020-08-26T05:50:00Z</td>\n",
       "      <td>2020-08-26T10:25:00Z</td>\n",
       "      <td>2020-08-26T05:50:00Z</td>\n",
       "      <td>NaN</td>\n",
       "      <td>NaN</td>\n",
       "      <td>Space Launch Complex 37B</td>\n",
       "      <td>Cape Canaveral, FL, USA</td>\n",
       "      <td>NaN</td>\n",
       "      <td>Go</td>\n",
       "    </tr>\n",
       "    <tr>\n",
       "      <th>2</th>\n",
       "      <td>https://spacelaunchnow.me/launch/electron-stp-...</td>\n",
       "      <td>Electron | STP-27RM</td>\n",
       "      <td>2020-08-31T00:00:00Z</td>\n",
       "      <td>2020-08-31T00:00:00Z</td>\n",
       "      <td>2020-08-31T00:00:00Z</td>\n",
       "      <td>STP-27RM</td>\n",
       "      <td>Government/Top Secret</td>\n",
       "      <td>Rocket Lab Launch Complex 2</td>\n",
       "      <td>Wallops Island, Virginia, USA</td>\n",
       "      <td>NaN</td>\n",
       "      <td>TBD</td>\n",
       "    </tr>\n",
       "    <tr>\n",
       "      <th>3</th>\n",
       "      <td>https://spacelaunchnow.me/launch/momo-flight-7</td>\n",
       "      <td>MOMO | Flight 7</td>\n",
       "      <td>2020-08-31T00:00:00Z</td>\n",
       "      <td>2020-08-31T00:00:00Z</td>\n",
       "      <td>2020-08-31T00:00:00Z</td>\n",
       "      <td>Flight 7</td>\n",
       "      <td>Suborbital</td>\n",
       "      <td>Taiki-cho, Hokkaido, Japan</td>\n",
       "      <td>Taiki-cho, Hokkaido, Japan</td>\n",
       "      <td>Sub Orbital</td>\n",
       "      <td>TBD</td>\n",
       "    </tr>\n",
       "    <tr>\n",
       "      <th>4</th>\n",
       "      <td>https://spacelaunchnow.me/launch/falcon-9-bloc...</td>\n",
       "      <td>Falcon 9 Block 5 | SAOCOM 1B</td>\n",
       "      <td>2020-08-31T00:00:00Z</td>\n",
       "      <td>2020-08-31T00:00:00Z</td>\n",
       "      <td>2020-08-31T00:00:00Z</td>\n",
       "      <td>SAOCOM 1B</td>\n",
       "      <td>Communications</td>\n",
       "      <td>Space Launch Complex 40</td>\n",
       "      <td>Cape Canaveral, FL, USA</td>\n",
       "      <td>NaN</td>\n",
       "      <td>TBD</td>\n",
       "    </tr>\n",
       "    <tr>\n",
       "      <th>...</th>\n",
       "      <td>...</td>\n",
       "      <td>...</td>\n",
       "      <td>...</td>\n",
       "      <td>...</td>\n",
       "      <td>...</td>\n",
       "      <td>...</td>\n",
       "      <td>...</td>\n",
       "      <td>...</td>\n",
       "      <td>...</td>\n",
       "      <td>...</td>\n",
       "      <td>...</td>\n",
       "    </tr>\n",
       "    <tr>\n",
       "      <th>196</th>\n",
       "      <td>https://spacelaunchnow.me/launch/sls-block-1-e...</td>\n",
       "      <td>SLS Block 1 | Europa Clipper</td>\n",
       "      <td>2025-01-01T00:00:00Z</td>\n",
       "      <td>2025-01-01T00:00:00Z</td>\n",
       "      <td>2025-01-01T00:00:00Z</td>\n",
       "      <td>Europa Clipper</td>\n",
       "      <td>Planetary Science</td>\n",
       "      <td>Launch Complex 39B</td>\n",
       "      <td>Kennedy Space Center, FL, USA</td>\n",
       "      <td>Helio-N/A</td>\n",
       "      <td>TBD</td>\n",
       "    </tr>\n",
       "    <tr>\n",
       "      <th>197</th>\n",
       "      <td>https://spacelaunchnow.me/launch/sls-block-1b-...</td>\n",
       "      <td>SLS Block 1B | Artemis-5</td>\n",
       "      <td>2026-01-01T00:00:00Z</td>\n",
       "      <td>2026-01-01T00:00:00Z</td>\n",
       "      <td>2026-01-01T00:00:00Z</td>\n",
       "      <td>NaN</td>\n",
       "      <td>NaN</td>\n",
       "      <td>Launch Complex 39B</td>\n",
       "      <td>Kennedy Space Center, FL, USA</td>\n",
       "      <td>NaN</td>\n",
       "      <td>TBD</td>\n",
       "    </tr>\n",
       "    <tr>\n",
       "      <th>198</th>\n",
       "      <td>https://spacelaunchnow.me/launch/sls-block-1b-...</td>\n",
       "      <td>SLS Block 1B | Artemis-6</td>\n",
       "      <td>2027-01-01T00:00:00Z</td>\n",
       "      <td>2027-01-01T00:00:00Z</td>\n",
       "      <td>2027-01-01T00:00:00Z</td>\n",
       "      <td>NaN</td>\n",
       "      <td>NaN</td>\n",
       "      <td>Launch Complex 39B</td>\n",
       "      <td>Kennedy Space Center, FL, USA</td>\n",
       "      <td>NaN</td>\n",
       "      <td>TBD</td>\n",
       "    </tr>\n",
       "    <tr>\n",
       "      <th>199</th>\n",
       "      <td>https://spacelaunchnow.me/launch/sls-block-1b-...</td>\n",
       "      <td>SLS Block 1B | Artemis-7</td>\n",
       "      <td>2028-01-01T00:00:00Z</td>\n",
       "      <td>2028-01-01T00:00:00Z</td>\n",
       "      <td>2028-01-01T00:00:00Z</td>\n",
       "      <td>NaN</td>\n",
       "      <td>NaN</td>\n",
       "      <td>Launch Complex 39B</td>\n",
       "      <td>Kennedy Space Center, FL, USA</td>\n",
       "      <td>NaN</td>\n",
       "      <td>TBD</td>\n",
       "    </tr>\n",
       "    <tr>\n",
       "      <th>200</th>\n",
       "      <td>https://spacelaunchnow.me/launch/ariane-62-ari...</td>\n",
       "      <td>Ariane 62 | ARIEL &amp; Comet Interceptor</td>\n",
       "      <td>2028-06-01T00:00:00Z</td>\n",
       "      <td>2028-06-01T00:00:00Z</td>\n",
       "      <td>2028-06-01T00:00:00Z</td>\n",
       "      <td>ARIEL &amp; Comet Interceptor</td>\n",
       "      <td>Planetary Science</td>\n",
       "      <td>Ariane Launch Area 4</td>\n",
       "      <td>Kourou, French Guiana</td>\n",
       "      <td>L2</td>\n",
       "      <td>TBD</td>\n",
       "    </tr>\n",
       "  </tbody>\n",
       "</table>\n",
       "<p>201 rows × 11 columns</p>\n",
       "</div>"
      ],
      "text/plain": [
       "                                                  slug  \\\n",
       "0    https://spacelaunchnow.me/launch/falcon-9-bloc...   \n",
       "1    https://spacelaunchnow.me/launch/delta-iv-heav...   \n",
       "2    https://spacelaunchnow.me/launch/electron-stp-...   \n",
       "3       https://spacelaunchnow.me/launch/momo-flight-7   \n",
       "4    https://spacelaunchnow.me/launch/falcon-9-bloc...   \n",
       "..                                                 ...   \n",
       "196  https://spacelaunchnow.me/launch/sls-block-1-e...   \n",
       "197  https://spacelaunchnow.me/launch/sls-block-1b-...   \n",
       "198  https://spacelaunchnow.me/launch/sls-block-1b-...   \n",
       "199  https://spacelaunchnow.me/launch/sls-block-1b-...   \n",
       "200  https://spacelaunchnow.me/launch/ariane-62-ari...   \n",
       "\n",
       "                                      name                   net  \\\n",
       "0           Falcon 9 Block 5 | Starlink 10  2020-08-18T14:31:00Z   \n",
       "1                 Delta IV Heavy | NROL-44  2020-08-26T05:50:00Z   \n",
       "2                      Electron | STP-27RM  2020-08-31T00:00:00Z   \n",
       "3                          MOMO | Flight 7  2020-08-31T00:00:00Z   \n",
       "4             Falcon 9 Block 5 | SAOCOM 1B  2020-08-31T00:00:00Z   \n",
       "..                                     ...                   ...   \n",
       "196           SLS Block 1 | Europa Clipper  2025-01-01T00:00:00Z   \n",
       "197               SLS Block 1B | Artemis-5  2026-01-01T00:00:00Z   \n",
       "198               SLS Block 1B | Artemis-6  2027-01-01T00:00:00Z   \n",
       "199               SLS Block 1B | Artemis-7  2028-01-01T00:00:00Z   \n",
       "200  Ariane 62 | ARIEL & Comet Interceptor  2028-06-01T00:00:00Z   \n",
       "\n",
       "               window_end          window_start                    mission  \\\n",
       "0    2020-08-18T14:31:00Z  2020-08-18T14:31:00Z                Starlink 10   \n",
       "1    2020-08-26T10:25:00Z  2020-08-26T05:50:00Z                        NaN   \n",
       "2    2020-08-31T00:00:00Z  2020-08-31T00:00:00Z                   STP-27RM   \n",
       "3    2020-08-31T00:00:00Z  2020-08-31T00:00:00Z                   Flight 7   \n",
       "4    2020-08-31T00:00:00Z  2020-08-31T00:00:00Z                  SAOCOM 1B   \n",
       "..                    ...                   ...                        ...   \n",
       "196  2025-01-01T00:00:00Z  2025-01-01T00:00:00Z             Europa Clipper   \n",
       "197  2026-01-01T00:00:00Z  2026-01-01T00:00:00Z                        NaN   \n",
       "198  2027-01-01T00:00:00Z  2027-01-01T00:00:00Z                        NaN   \n",
       "199  2028-01-01T00:00:00Z  2028-01-01T00:00:00Z                        NaN   \n",
       "200  2028-06-01T00:00:00Z  2028-06-01T00:00:00Z  ARIEL & Comet Interceptor   \n",
       "\n",
       "              mission_type                          pad  \\\n",
       "0           Communications      Space Launch Complex 40   \n",
       "1                      NaN     Space Launch Complex 37B   \n",
       "2    Government/Top Secret  Rocket Lab Launch Complex 2   \n",
       "3               Suborbital   Taiki-cho, Hokkaido, Japan   \n",
       "4           Communications      Space Launch Complex 40   \n",
       "..                     ...                          ...   \n",
       "196      Planetary Science           Launch Complex 39B   \n",
       "197                    NaN           Launch Complex 39B   \n",
       "198                    NaN           Launch Complex 39B   \n",
       "199                    NaN           Launch Complex 39B   \n",
       "200      Planetary Science         Ariane Launch Area 4   \n",
       "\n",
       "                          location        orbit status.name  \n",
       "0          Cape Canaveral, FL, USA          LEO          Go  \n",
       "1          Cape Canaveral, FL, USA          NaN          Go  \n",
       "2    Wallops Island, Virginia, USA          NaN         TBD  \n",
       "3       Taiki-cho, Hokkaido, Japan  Sub Orbital         TBD  \n",
       "4          Cape Canaveral, FL, USA          NaN         TBD  \n",
       "..                             ...          ...         ...  \n",
       "196  Kennedy Space Center, FL, USA    Helio-N/A         TBD  \n",
       "197  Kennedy Space Center, FL, USA          NaN         TBD  \n",
       "198  Kennedy Space Center, FL, USA          NaN         TBD  \n",
       "199  Kennedy Space Center, FL, USA          NaN         TBD  \n",
       "200          Kourou, French Guiana           L2         TBD  \n",
       "\n",
       "[201 rows x 11 columns]"
      ]
     },
     "execution_count": 83,
     "metadata": {},
     "output_type": "execute_result"
    }
   ],
   "source": [
    "df1"
   ]
  },
  {
   "cell_type": "markdown",
   "metadata": {},
   "source": [
    "Both dataframes have the column \"name\" in common"
   ]
  },
  {
   "cell_type": "code",
   "execution_count": 84,
   "metadata": {
    "ExecuteTime": {
     "end_time": "2020-08-16T17:15:54.810439Z",
     "start_time": "2020-08-16T17:15:54.799193Z"
    }
   },
   "outputs": [],
   "source": [
    "df3 = pd.merge(df1, df2, how='left', on='name')"
   ]
  },
  {
   "cell_type": "code",
   "execution_count": 85,
   "metadata": {
    "ExecuteTime": {
     "end_time": "2020-08-16T17:15:55.820372Z",
     "start_time": "2020-08-16T17:15:55.805961Z"
    }
   },
   "outputs": [
    {
     "data": {
      "text/plain": [
       "slug              0\n",
       "name              0\n",
       "net               0\n",
       "window_end        0\n",
       "window_start      0\n",
       "mission         137\n",
       "mission_type    137\n",
       "pad               0\n",
       "location          0\n",
       "orbit           166\n",
       "status.name       0\n",
       "description      15\n",
       "date             15\n",
       "dtype: int64"
      ]
     },
     "execution_count": 85,
     "metadata": {},
     "output_type": "execute_result"
    }
   ],
   "source": [
    "df3.isnull().sum()"
   ]
  },
  {
   "cell_type": "markdown",
   "metadata": {},
   "source": [
    "#### Export to a CSV"
   ]
  },
  {
   "cell_type": "code",
   "execution_count": 86,
   "metadata": {
    "ExecuteTime": {
     "end_time": "2020-08-16T17:16:43.116467Z",
     "start_time": "2020-08-16T17:16:43.103594Z"
    }
   },
   "outputs": [],
   "source": [
    "df3.to_csv('output/merged_data.csv', index=False)"
   ]
  },
  {
   "cell_type": "code",
   "execution_count": null,
   "metadata": {},
   "outputs": [],
   "source": []
  }
 ],
 "metadata": {
  "kernelspec": {
   "display_name": "Python 3",
   "language": "python",
   "name": "python3"
  },
  "language_info": {
   "codemirror_mode": {
    "name": "ipython",
    "version": 3
   },
   "file_extension": ".py",
   "mimetype": "text/x-python",
   "name": "python",
   "nbconvert_exporter": "python",
   "pygments_lexer": "ipython3",
   "version": "3.7.6"
  },
  "toc": {
   "base_numbering": 1,
   "nav_menu": {
    "height": "210px",
    "width": "278px"
   },
   "number_sections": true,
   "sideBar": true,
   "skip_h1_title": true,
   "title_cell": "Table of contents",
   "title_sidebar": "Contents",
   "toc_cell": true,
   "toc_position": {
    "height": "calc(100% - 180px)",
    "left": "10px",
    "top": "150px",
    "width": "165px"
   },
   "toc_section_display": true,
   "toc_window_display": false
  },
  "varInspector": {
   "cols": {
    "lenName": 16,
    "lenType": 16,
    "lenVar": 40
   },
   "kernels_config": {
    "python": {
     "delete_cmd_postfix": "",
     "delete_cmd_prefix": "del ",
     "library": "var_list.py",
     "varRefreshCmd": "print(var_dic_list())"
    },
    "r": {
     "delete_cmd_postfix": ") ",
     "delete_cmd_prefix": "rm(",
     "library": "var_list.r",
     "varRefreshCmd": "cat(var_dic_list()) "
    }
   },
   "position": {
    "height": "393px",
    "left": "866px",
    "right": "20px",
    "top": "121px",
    "width": "350px"
   },
   "types_to_exclude": [
    "module",
    "function",
    "builtin_function_or_method",
    "instance",
    "_Feature"
   ],
   "window_display": false
  }
 },
 "nbformat": 4,
 "nbformat_minor": 4
}
